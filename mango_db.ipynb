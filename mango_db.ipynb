{
 "cells": [
  {
   "cell_type": "code",
   "execution_count": 12,
   "id": "37d97006",
   "metadata": {},
   "outputs": [
    {
     "name": "stdout",
     "output_type": "stream",
     "text": [
      "The nb_black extension is already loaded. To reload it, use:\n",
      "  %reload_ext nb_black\n"
     ]
    },
    {
     "data": {
      "application/javascript": "\n            setTimeout(function() {\n                var nbb_cell_id = 12;\n                var nbb_unformatted_code = \"%load_ext nb_black\\nfrom requests import Request, Session\\nfrom requests.exceptions import ConnectionError, Timeout, TooManyRedirects\\nimport json\\nimport pandas as pd\\nimport pprint\\nfrom config import app_key\\nimport pymongo\\nfrom time import time, sleep\\n\\nurl = \\\"https://pro-api.coinmarketcap.com/v1/cryptocurrency/listings/latest\\\"\\nparameters = {\\\"start\\\": 1, \\\"limit\\\": 1000, \\\"convert\\\": \\\"USD\\\"}\\nheaders = {\\n    \\\"Accept\\\": \\\"application/json\\\",\\n    \\\"X-CMC_PRO_API_KEY\\\": app_key,\\n}\";\n                var nbb_formatted_code = \"%load_ext nb_black\\nfrom requests import Request, Session\\nfrom requests.exceptions import ConnectionError, Timeout, TooManyRedirects\\nimport json\\nimport pandas as pd\\nimport pprint\\nfrom config import app_key\\nimport pymongo\\nfrom time import time, sleep\\n\\nurl = \\\"https://pro-api.coinmarketcap.com/v1/cryptocurrency/listings/latest\\\"\\nparameters = {\\\"start\\\": 1, \\\"limit\\\": 1000, \\\"convert\\\": \\\"USD\\\"}\\nheaders = {\\n    \\\"Accept\\\": \\\"application/json\\\",\\n    \\\"X-CMC_PRO_API_KEY\\\": app_key,\\n}\";\n                var nbb_cells = Jupyter.notebook.get_cells();\n                for (var i = 0; i < nbb_cells.length; ++i) {\n                    if (nbb_cells[i].input_prompt_number == nbb_cell_id) {\n                        if (nbb_cells[i].get_text() == nbb_unformatted_code) {\n                             nbb_cells[i].set_text(nbb_formatted_code);\n                        }\n                        break;\n                    }\n                }\n            }, 500);\n            ",
      "text/plain": [
       "<IPython.core.display.Javascript object>"
      ]
     },
     "metadata": {},
     "output_type": "display_data"
    }
   ],
   "source": [
    "%load_ext nb_black\n",
    "from requests import Request, Session\n",
    "from requests.exceptions import ConnectionError, Timeout, TooManyRedirects\n",
    "import json\n",
    "import pandas as pd\n",
    "import pprint\n",
    "from config import app_key\n",
    "import pymongo\n",
    "from time import time, sleep\n",
    "\n",
    "url = \"https://pro-api.coinmarketcap.com/v1/cryptocurrency/listings/latest\"\n",
    "parameters = {\"start\": 1, \"limit\": 1000, \"convert\": \"USD\"}\n",
    "headers = {\n",
    "    \"Accept\": \"application/json\",\n",
    "    \"X-CMC_PRO_API_KEY\": app_key,\n",
    "}"
   ]
  },
  {
   "cell_type": "code",
   "execution_count": 16,
   "metadata": {},
   "outputs": [
    {
     "data": {
      "text/plain": [
       "{'X-CMC_PRO_API_KEY': 'f5edd51c-defa-48b5-9af8-60226629f498'}"
      ]
     },
     "execution_count": 16,
     "metadata": {},
     "output_type": "execute_result"
    },
    {
     "data": {
      "application/javascript": "\n            setTimeout(function() {\n                var nbb_cell_id = 16;\n                var nbb_unformatted_code = \"app_key\";\n                var nbb_formatted_code = \"app_key\";\n                var nbb_cells = Jupyter.notebook.get_cells();\n                for (var i = 0; i < nbb_cells.length; ++i) {\n                    if (nbb_cells[i].input_prompt_number == nbb_cell_id) {\n                        if (nbb_cells[i].get_text() == nbb_unformatted_code) {\n                             nbb_cells[i].set_text(nbb_formatted_code);\n                        }\n                        break;\n                    }\n                }\n            }, 500);\n            ",
      "text/plain": [
       "<IPython.core.display.Javascript object>"
      ]
     },
     "metadata": {},
     "output_type": "display_data"
    }
   ],
   "source": [
    "app_key"
   ]
  },
  {
   "cell_type": "code",
   "execution_count": 7,
   "id": "cdcaf086",
   "metadata": {},
   "outputs": [
    {
     "ename": "InvalidHeader",
     "evalue": "Value for header {X-CMC_PRO_API_KEY: {'X-CMC_PRO_API_KEY': 'f5edd51c-defa-48b5-9af8-60226629f498'}} must be of type str or bytes, not <class 'dict'>",
     "output_type": "error",
     "traceback": [
      "\u001b[0;31m---------------------------------------------------------------------------\u001b[0m",
      "\u001b[0;31mTypeError\u001b[0m                                 Traceback (most recent call last)",
      "\u001b[0;32m~/opt/anaconda3/lib/python3.9/site-packages/requests/utils.py\u001b[0m in \u001b[0;36mcheck_header_validity\u001b[0;34m(header)\u001b[0m\n\u001b[1;32m    976\u001b[0m     \u001b[0;32mtry\u001b[0m\u001b[0;34m:\u001b[0m\u001b[0;34m\u001b[0m\u001b[0;34m\u001b[0m\u001b[0m\n\u001b[0;32m--> 977\u001b[0;31m         \u001b[0;32mif\u001b[0m \u001b[0;32mnot\u001b[0m \u001b[0mpat\u001b[0m\u001b[0;34m.\u001b[0m\u001b[0mmatch\u001b[0m\u001b[0;34m(\u001b[0m\u001b[0mvalue\u001b[0m\u001b[0;34m)\u001b[0m\u001b[0;34m:\u001b[0m\u001b[0;34m\u001b[0m\u001b[0;34m\u001b[0m\u001b[0m\n\u001b[0m\u001b[1;32m    978\u001b[0m             \u001b[0;32mraise\u001b[0m \u001b[0mInvalidHeader\u001b[0m\u001b[0;34m(\u001b[0m\u001b[0;34m\"Invalid return character or leading space in header: %s\"\u001b[0m \u001b[0;34m%\u001b[0m \u001b[0mname\u001b[0m\u001b[0;34m)\u001b[0m\u001b[0;34m\u001b[0m\u001b[0;34m\u001b[0m\u001b[0m\n",
      "\u001b[0;31mTypeError\u001b[0m: expected string or bytes-like object",
      "\nDuring handling of the above exception, another exception occurred:\n",
      "\u001b[0;31mInvalidHeader\u001b[0m                             Traceback (most recent call last)",
      "\u001b[0;32m/var/folders/4p/rh50sq7s6hv5kgschbryjvt80000gn/T/ipykernel_80663/3137661648.py\u001b[0m in \u001b[0;36m<module>\u001b[0;34m\u001b[0m\n\u001b[1;32m      5\u001b[0m \u001b[0;34m\u001b[0m\u001b[0m\n\u001b[1;32m      6\u001b[0m \u001b[0;32mtry\u001b[0m\u001b[0;34m:\u001b[0m\u001b[0;34m\u001b[0m\u001b[0;34m\u001b[0m\u001b[0m\n\u001b[0;32m----> 7\u001b[0;31m     \u001b[0mresponse\u001b[0m \u001b[0;34m=\u001b[0m \u001b[0msession\u001b[0m\u001b[0;34m.\u001b[0m\u001b[0mget\u001b[0m\u001b[0;34m(\u001b[0m\u001b[0murl\u001b[0m\u001b[0;34m,\u001b[0m \u001b[0mparams\u001b[0m\u001b[0;34m=\u001b[0m\u001b[0mparameters\u001b[0m\u001b[0;34m)\u001b[0m\u001b[0;34m\u001b[0m\u001b[0;34m\u001b[0m\u001b[0m\n\u001b[0m\u001b[1;32m      8\u001b[0m     \u001b[0mdata\u001b[0m \u001b[0;34m=\u001b[0m \u001b[0mjson\u001b[0m\u001b[0;34m.\u001b[0m\u001b[0mloads\u001b[0m\u001b[0;34m(\u001b[0m\u001b[0mresponse\u001b[0m\u001b[0;34m.\u001b[0m\u001b[0mtext\u001b[0m\u001b[0;34m)\u001b[0m\u001b[0;34m\u001b[0m\u001b[0;34m\u001b[0m\u001b[0m\n\u001b[1;32m      9\u001b[0m     \u001b[0mpp\u001b[0m\u001b[0;34m.\u001b[0m\u001b[0mpprint\u001b[0m\u001b[0;34m(\u001b[0m\u001b[0mdata\u001b[0m\u001b[0;34m)\u001b[0m\u001b[0;34m\u001b[0m\u001b[0;34m\u001b[0m\u001b[0m\n",
      "\u001b[0;32m~/opt/anaconda3/lib/python3.9/site-packages/requests/sessions.py\u001b[0m in \u001b[0;36mget\u001b[0;34m(self, url, **kwargs)\u001b[0m\n\u001b[1;32m    553\u001b[0m \u001b[0;34m\u001b[0m\u001b[0m\n\u001b[1;32m    554\u001b[0m         \u001b[0mkwargs\u001b[0m\u001b[0;34m.\u001b[0m\u001b[0msetdefault\u001b[0m\u001b[0;34m(\u001b[0m\u001b[0;34m'allow_redirects'\u001b[0m\u001b[0;34m,\u001b[0m \u001b[0;32mTrue\u001b[0m\u001b[0;34m)\u001b[0m\u001b[0;34m\u001b[0m\u001b[0;34m\u001b[0m\u001b[0m\n\u001b[0;32m--> 555\u001b[0;31m         \u001b[0;32mreturn\u001b[0m \u001b[0mself\u001b[0m\u001b[0;34m.\u001b[0m\u001b[0mrequest\u001b[0m\u001b[0;34m(\u001b[0m\u001b[0;34m'GET'\u001b[0m\u001b[0;34m,\u001b[0m \u001b[0murl\u001b[0m\u001b[0;34m,\u001b[0m \u001b[0;34m**\u001b[0m\u001b[0mkwargs\u001b[0m\u001b[0;34m)\u001b[0m\u001b[0;34m\u001b[0m\u001b[0;34m\u001b[0m\u001b[0m\n\u001b[0m\u001b[1;32m    556\u001b[0m \u001b[0;34m\u001b[0m\u001b[0m\n\u001b[1;32m    557\u001b[0m     \u001b[0;32mdef\u001b[0m \u001b[0moptions\u001b[0m\u001b[0;34m(\u001b[0m\u001b[0mself\u001b[0m\u001b[0;34m,\u001b[0m \u001b[0murl\u001b[0m\u001b[0;34m,\u001b[0m \u001b[0;34m**\u001b[0m\u001b[0mkwargs\u001b[0m\u001b[0;34m)\u001b[0m\u001b[0;34m:\u001b[0m\u001b[0;34m\u001b[0m\u001b[0;34m\u001b[0m\u001b[0m\n",
      "\u001b[0;32m~/opt/anaconda3/lib/python3.9/site-packages/requests/sessions.py\u001b[0m in \u001b[0;36mrequest\u001b[0;34m(self, method, url, params, data, headers, cookies, files, auth, timeout, allow_redirects, proxies, hooks, stream, verify, cert, json)\u001b[0m\n\u001b[1;32m    526\u001b[0m             \u001b[0mhooks\u001b[0m\u001b[0;34m=\u001b[0m\u001b[0mhooks\u001b[0m\u001b[0;34m,\u001b[0m\u001b[0;34m\u001b[0m\u001b[0;34m\u001b[0m\u001b[0m\n\u001b[1;32m    527\u001b[0m         )\n\u001b[0;32m--> 528\u001b[0;31m         \u001b[0mprep\u001b[0m \u001b[0;34m=\u001b[0m \u001b[0mself\u001b[0m\u001b[0;34m.\u001b[0m\u001b[0mprepare_request\u001b[0m\u001b[0;34m(\u001b[0m\u001b[0mreq\u001b[0m\u001b[0;34m)\u001b[0m\u001b[0;34m\u001b[0m\u001b[0;34m\u001b[0m\u001b[0m\n\u001b[0m\u001b[1;32m    529\u001b[0m \u001b[0;34m\u001b[0m\u001b[0m\n\u001b[1;32m    530\u001b[0m         \u001b[0mproxies\u001b[0m \u001b[0;34m=\u001b[0m \u001b[0mproxies\u001b[0m \u001b[0;32mor\u001b[0m \u001b[0;34m{\u001b[0m\u001b[0;34m}\u001b[0m\u001b[0;34m\u001b[0m\u001b[0;34m\u001b[0m\u001b[0m\n",
      "\u001b[0;32m~/opt/anaconda3/lib/python3.9/site-packages/requests/sessions.py\u001b[0m in \u001b[0;36mprepare_request\u001b[0;34m(self, request)\u001b[0m\n\u001b[1;32m    454\u001b[0m \u001b[0;34m\u001b[0m\u001b[0m\n\u001b[1;32m    455\u001b[0m         \u001b[0mp\u001b[0m \u001b[0;34m=\u001b[0m \u001b[0mPreparedRequest\u001b[0m\u001b[0;34m(\u001b[0m\u001b[0;34m)\u001b[0m\u001b[0;34m\u001b[0m\u001b[0;34m\u001b[0m\u001b[0m\n\u001b[0;32m--> 456\u001b[0;31m         p.prepare(\n\u001b[0m\u001b[1;32m    457\u001b[0m             \u001b[0mmethod\u001b[0m\u001b[0;34m=\u001b[0m\u001b[0mrequest\u001b[0m\u001b[0;34m.\u001b[0m\u001b[0mmethod\u001b[0m\u001b[0;34m.\u001b[0m\u001b[0mupper\u001b[0m\u001b[0;34m(\u001b[0m\u001b[0;34m)\u001b[0m\u001b[0;34m,\u001b[0m\u001b[0;34m\u001b[0m\u001b[0;34m\u001b[0m\u001b[0m\n\u001b[1;32m    458\u001b[0m             \u001b[0murl\u001b[0m\u001b[0;34m=\u001b[0m\u001b[0mrequest\u001b[0m\u001b[0;34m.\u001b[0m\u001b[0murl\u001b[0m\u001b[0;34m,\u001b[0m\u001b[0;34m\u001b[0m\u001b[0;34m\u001b[0m\u001b[0m\n",
      "\u001b[0;32m~/opt/anaconda3/lib/python3.9/site-packages/requests/models.py\u001b[0m in \u001b[0;36mprepare\u001b[0;34m(self, method, url, headers, files, data, params, auth, cookies, hooks, json)\u001b[0m\n\u001b[1;32m    315\u001b[0m         \u001b[0mself\u001b[0m\u001b[0;34m.\u001b[0m\u001b[0mprepare_method\u001b[0m\u001b[0;34m(\u001b[0m\u001b[0mmethod\u001b[0m\u001b[0;34m)\u001b[0m\u001b[0;34m\u001b[0m\u001b[0;34m\u001b[0m\u001b[0m\n\u001b[1;32m    316\u001b[0m         \u001b[0mself\u001b[0m\u001b[0;34m.\u001b[0m\u001b[0mprepare_url\u001b[0m\u001b[0;34m(\u001b[0m\u001b[0murl\u001b[0m\u001b[0;34m,\u001b[0m \u001b[0mparams\u001b[0m\u001b[0;34m)\u001b[0m\u001b[0;34m\u001b[0m\u001b[0;34m\u001b[0m\u001b[0m\n\u001b[0;32m--> 317\u001b[0;31m         \u001b[0mself\u001b[0m\u001b[0;34m.\u001b[0m\u001b[0mprepare_headers\u001b[0m\u001b[0;34m(\u001b[0m\u001b[0mheaders\u001b[0m\u001b[0;34m)\u001b[0m\u001b[0;34m\u001b[0m\u001b[0;34m\u001b[0m\u001b[0m\n\u001b[0m\u001b[1;32m    318\u001b[0m         \u001b[0mself\u001b[0m\u001b[0;34m.\u001b[0m\u001b[0mprepare_cookies\u001b[0m\u001b[0;34m(\u001b[0m\u001b[0mcookies\u001b[0m\u001b[0;34m)\u001b[0m\u001b[0;34m\u001b[0m\u001b[0;34m\u001b[0m\u001b[0m\n\u001b[1;32m    319\u001b[0m         \u001b[0mself\u001b[0m\u001b[0;34m.\u001b[0m\u001b[0mprepare_body\u001b[0m\u001b[0;34m(\u001b[0m\u001b[0mdata\u001b[0m\u001b[0;34m,\u001b[0m \u001b[0mfiles\u001b[0m\u001b[0;34m,\u001b[0m \u001b[0mjson\u001b[0m\u001b[0;34m)\u001b[0m\u001b[0;34m\u001b[0m\u001b[0;34m\u001b[0m\u001b[0m\n",
      "\u001b[0;32m~/opt/anaconda3/lib/python3.9/site-packages/requests/models.py\u001b[0m in \u001b[0;36mprepare_headers\u001b[0;34m(self, headers)\u001b[0m\n\u001b[1;32m    449\u001b[0m             \u001b[0;32mfor\u001b[0m \u001b[0mheader\u001b[0m \u001b[0;32min\u001b[0m \u001b[0mheaders\u001b[0m\u001b[0;34m.\u001b[0m\u001b[0mitems\u001b[0m\u001b[0;34m(\u001b[0m\u001b[0;34m)\u001b[0m\u001b[0;34m:\u001b[0m\u001b[0;34m\u001b[0m\u001b[0;34m\u001b[0m\u001b[0m\n\u001b[1;32m    450\u001b[0m                 \u001b[0;31m# Raise exception on invalid header value.\u001b[0m\u001b[0;34m\u001b[0m\u001b[0;34m\u001b[0m\u001b[0m\n\u001b[0;32m--> 451\u001b[0;31m                 \u001b[0mcheck_header_validity\u001b[0m\u001b[0;34m(\u001b[0m\u001b[0mheader\u001b[0m\u001b[0;34m)\u001b[0m\u001b[0;34m\u001b[0m\u001b[0;34m\u001b[0m\u001b[0m\n\u001b[0m\u001b[1;32m    452\u001b[0m                 \u001b[0mname\u001b[0m\u001b[0;34m,\u001b[0m \u001b[0mvalue\u001b[0m \u001b[0;34m=\u001b[0m \u001b[0mheader\u001b[0m\u001b[0;34m\u001b[0m\u001b[0;34m\u001b[0m\u001b[0m\n\u001b[1;32m    453\u001b[0m                 \u001b[0mself\u001b[0m\u001b[0;34m.\u001b[0m\u001b[0mheaders\u001b[0m\u001b[0;34m[\u001b[0m\u001b[0mto_native_string\u001b[0m\u001b[0;34m(\u001b[0m\u001b[0mname\u001b[0m\u001b[0;34m)\u001b[0m\u001b[0;34m]\u001b[0m \u001b[0;34m=\u001b[0m \u001b[0mvalue\u001b[0m\u001b[0;34m\u001b[0m\u001b[0;34m\u001b[0m\u001b[0m\n",
      "\u001b[0;32m~/opt/anaconda3/lib/python3.9/site-packages/requests/utils.py\u001b[0m in \u001b[0;36mcheck_header_validity\u001b[0;34m(header)\u001b[0m\n\u001b[1;32m    978\u001b[0m             \u001b[0;32mraise\u001b[0m \u001b[0mInvalidHeader\u001b[0m\u001b[0;34m(\u001b[0m\u001b[0;34m\"Invalid return character or leading space in header: %s\"\u001b[0m \u001b[0;34m%\u001b[0m \u001b[0mname\u001b[0m\u001b[0;34m)\u001b[0m\u001b[0;34m\u001b[0m\u001b[0;34m\u001b[0m\u001b[0m\n\u001b[1;32m    979\u001b[0m     \u001b[0;32mexcept\u001b[0m \u001b[0mTypeError\u001b[0m\u001b[0;34m:\u001b[0m\u001b[0;34m\u001b[0m\u001b[0;34m\u001b[0m\u001b[0m\n\u001b[0;32m--> 980\u001b[0;31m         raise InvalidHeader(\"Value for header {%s: %s} must be of type str or \"\n\u001b[0m\u001b[1;32m    981\u001b[0m                             \"bytes, not %s\" % (name, value, type(value)))\n\u001b[1;32m    982\u001b[0m \u001b[0;34m\u001b[0m\u001b[0m\n",
      "\u001b[0;31mInvalidHeader\u001b[0m: Value for header {X-CMC_PRO_API_KEY: {'X-CMC_PRO_API_KEY': 'f5edd51c-defa-48b5-9af8-60226629f498'}} must be of type str or bytes, not <class 'dict'>"
     ]
    },
    {
     "data": {
      "application/javascript": "\n            setTimeout(function() {\n                var nbb_cell_id = 7;\n                var nbb_unformatted_code = \"session = Session()\\nsession.headers.update(headers)\\ndata_retrieved = []\\npp = pprint.PrettyPrinter(width=10, compact=True)\\n\\ntry:\\n    response = session.get(url, params=parameters)\\n    data = json.loads(response.text)\\n    pp.pprint(data)\\n    data_retrieved.append(data)\\n\\nexcept (ConnectionError, Timeout, TooManyRedirects) as error:\\n    data_retrieved(error)\";\n                var nbb_formatted_code = \"session = Session()\\nsession.headers.update(headers)\\ndata_retrieved = []\\npp = pprint.PrettyPrinter(width=10, compact=True)\\n\\ntry:\\n    response = session.get(url, params=parameters)\\n    data = json.loads(response.text)\\n    pp.pprint(data)\\n    data_retrieved.append(data)\\n\\nexcept (ConnectionError, Timeout, TooManyRedirects) as error:\\n    data_retrieved(error)\";\n                var nbb_cells = Jupyter.notebook.get_cells();\n                for (var i = 0; i < nbb_cells.length; ++i) {\n                    if (nbb_cells[i].input_prompt_number == nbb_cell_id) {\n                        if (nbb_cells[i].get_text() == nbb_unformatted_code) {\n                             nbb_cells[i].set_text(nbb_formatted_code);\n                        }\n                        break;\n                    }\n                }\n            }, 500);\n            ",
      "text/plain": [
       "<IPython.core.display.Javascript object>"
      ]
     },
     "metadata": {},
     "output_type": "display_data"
    }
   ],
   "source": [
    "session = Session()\n",
    "session.headers.update(headers)\n",
    "data_retrieved = []\n",
    "pp = pprint.PrettyPrinter(width=10, compact=True)\n",
    "\n",
    "try:\n",
    "    response = session.get(url, params=parameters)\n",
    "    data = json.loads(response.text)\n",
    "    pp.pprint(data)\n",
    "    data_retrieved.append(data)\n",
    "\n",
    "except (ConnectionError, Timeout, TooManyRedirects) as error:\n",
    "    data_retrieved(error)\n"
   ]
  },
  {
   "cell_type": "code",
   "execution_count": 3,
   "id": "d3cf53be",
   "metadata": {},
   "outputs": [
    {
     "data": {
      "application/javascript": "\n            setTimeout(function() {\n                var nbb_cell_id = 3;\n                var nbb_unformatted_code = \"conn = \\\"mongodb://localhost:27017\\\"\\nclient = pymongo.MongoClient(conn)\\ndb = client.cryptoCurrency_db\\ncollection = db.items\";\n                var nbb_formatted_code = \"conn = \\\"mongodb://localhost:27017\\\"\\nclient = pymongo.MongoClient(conn)\\ndb = client.cryptoCurrency_db\\ncollection = db.items\";\n                var nbb_cells = Jupyter.notebook.get_cells();\n                for (var i = 0; i < nbb_cells.length; ++i) {\n                    if (nbb_cells[i].input_prompt_number == nbb_cell_id) {\n                        if (nbb_cells[i].get_text() == nbb_unformatted_code) {\n                             nbb_cells[i].set_text(nbb_formatted_code);\n                        }\n                        break;\n                    }\n                }\n            }, 500);\n            ",
      "text/plain": [
       "<IPython.core.display.Javascript object>"
      ]
     },
     "metadata": {},
     "output_type": "display_data"
    }
   ],
   "source": [
    "conn = \"mongodb://localhost:27017\"\n",
    "client = pymongo.MongoClient(conn)\n",
    "db = client.cryptoCurrency_db\n",
    "collection = db.items\n"
   ]
  },
  {
   "cell_type": "code",
   "execution_count": 4,
   "id": "8a69abf2",
   "metadata": {},
   "outputs": [
    {
     "ename": "NameError",
     "evalue": "name 'data_retrieved' is not defined",
     "output_type": "error",
     "traceback": [
      "\u001b[0;31m---------------------------------------------------------------------------\u001b[0m",
      "\u001b[0;31mNameError\u001b[0m                                 Traceback (most recent call last)",
      "\u001b[0;32m/var/folders/4p/rh50sq7s6hv5kgschbryjvt80000gn/T/ipykernel_80663/4149231653.py\u001b[0m in \u001b[0;36m<module>\u001b[0;34m\u001b[0m\n\u001b[0;32m----> 1\u001b[0;31m \u001b[0;32mfor\u001b[0m \u001b[0mitem\u001b[0m \u001b[0;32min\u001b[0m \u001b[0mdata_retrieved\u001b[0m\u001b[0;34m:\u001b[0m\u001b[0;34m\u001b[0m\u001b[0;34m\u001b[0m\u001b[0m\n\u001b[0m\u001b[1;32m      2\u001b[0m \u001b[0;34m\u001b[0m\u001b[0m\n\u001b[1;32m      3\u001b[0m     \u001b[0mcollection\u001b[0m\u001b[0;34m.\u001b[0m\u001b[0minsert_one\u001b[0m\u001b[0;34m(\u001b[0m\u001b[0mitem\u001b[0m\u001b[0;34m)\u001b[0m\u001b[0;34m\u001b[0m\u001b[0;34m\u001b[0m\u001b[0m\n",
      "\u001b[0;31mNameError\u001b[0m: name 'data_retrieved' is not defined"
     ]
    },
    {
     "data": {
      "application/javascript": "\n            setTimeout(function() {\n                var nbb_cell_id = 4;\n                var nbb_unformatted_code = \"for item in data_retrieved:\\n\\n    collection.insert_one(item)\";\n                var nbb_formatted_code = \"for item in data_retrieved:\\n\\n    collection.insert_one(item)\";\n                var nbb_cells = Jupyter.notebook.get_cells();\n                for (var i = 0; i < nbb_cells.length; ++i) {\n                    if (nbb_cells[i].input_prompt_number == nbb_cell_id) {\n                        if (nbb_cells[i].get_text() == nbb_unformatted_code) {\n                             nbb_cells[i].set_text(nbb_formatted_code);\n                        }\n                        break;\n                    }\n                }\n            }, 500);\n            ",
      "text/plain": [
       "<IPython.core.display.Javascript object>"
      ]
     },
     "metadata": {},
     "output_type": "display_data"
    }
   ],
   "source": [
    "for item in data_retrieved:\n",
    "\n",
    "    collection.insert_one(item)\n"
   ]
  },
  {
   "cell_type": "code",
   "execution_count": 33,
   "id": "f1429c57",
   "metadata": {},
   "outputs": [
    {
     "data": {
      "application/javascript": "\n            setTimeout(function() {\n                var nbb_cell_id = 33;\n                var nbb_unformatted_code = \"docs = pd.DataFrame(columns=[])\\nitems = db.items.find()\\nfor num, doc in enumerate(items):\\n    doc[\\\"_id\\\"] = str(doc[\\\"_id\\\"])\\n    doc_id = doc[\\\"_id\\\"]\\n    series_obj = pd.Series(doc, name=doc_id)\\n    docs = docs.append(series_obj)\";\n                var nbb_formatted_code = \"docs = pd.DataFrame(columns=[])\\nitems = db.items.find()\\nfor num, doc in enumerate(items):\\n    doc[\\\"_id\\\"] = str(doc[\\\"_id\\\"])\\n    doc_id = doc[\\\"_id\\\"]\\n    series_obj = pd.Series(doc, name=doc_id)\\n    docs = docs.append(series_obj)\";\n                var nbb_cells = Jupyter.notebook.get_cells();\n                for (var i = 0; i < nbb_cells.length; ++i) {\n                    if (nbb_cells[i].input_prompt_number == nbb_cell_id) {\n                        if (nbb_cells[i].get_text() == nbb_unformatted_code) {\n                             nbb_cells[i].set_text(nbb_formatted_code);\n                        }\n                        break;\n                    }\n                }\n            }, 500);\n            ",
      "text/plain": [
       "<IPython.core.display.Javascript object>"
      ]
     },
     "metadata": {},
     "output_type": "display_data"
    }
   ],
   "source": [
    "docs = pd.DataFrame(columns=[])\n",
    "items = db.items.find()\n",
    "for num, doc in enumerate(items):\n",
    "    doc[\"_id\"] = str(doc[\"_id\"])\n",
    "    doc_id = doc[\"_id\"]\n",
    "    series_obj = pd.Series(doc, name=doc_id)\n",
    "    docs = docs.append(series_obj)\n"
   ]
  },
  {
   "cell_type": "code",
   "execution_count": 34,
   "id": "bdfb2089",
   "metadata": {},
   "outputs": [
    {
     "data": {
      "text/html": [
       "<div>\n",
       "<style scoped>\n",
       "    .dataframe tbody tr th:only-of-type {\n",
       "        vertical-align: middle;\n",
       "    }\n",
       "\n",
       "    .dataframe tbody tr th {\n",
       "        vertical-align: top;\n",
       "    }\n",
       "\n",
       "    .dataframe thead th {\n",
       "        text-align: right;\n",
       "    }\n",
       "</style>\n",
       "<table border=\"1\" class=\"dataframe\">\n",
       "  <thead>\n",
       "    <tr style=\"text-align: right;\">\n",
       "      <th></th>\n",
       "      <th>id</th>\n",
       "      <th>name</th>\n",
       "      <th>symbol</th>\n",
       "      <th>slug</th>\n",
       "      <th>num_market_pairs</th>\n",
       "      <th>date_added</th>\n",
       "      <th>tags</th>\n",
       "      <th>max_supply</th>\n",
       "      <th>circulating_supply</th>\n",
       "      <th>total_supply</th>\n",
       "      <th>platform</th>\n",
       "      <th>cmc_rank</th>\n",
       "      <th>self_reported_circulating_supply</th>\n",
       "      <th>self_reported_market_cap</th>\n",
       "      <th>last_updated</th>\n",
       "      <th>quote</th>\n",
       "      <th>year</th>\n",
       "    </tr>\n",
       "  </thead>\n",
       "  <tbody>\n",
       "    <tr>\n",
       "      <th>0</th>\n",
       "      <td>1</td>\n",
       "      <td>Bitcoin</td>\n",
       "      <td>BTC</td>\n",
       "      <td>bitcoin</td>\n",
       "      <td>9357</td>\n",
       "      <td>2013-04-28 00:00:00+00:00</td>\n",
       "      <td>[mineable, pow, sha-256, store-of-value, state...</td>\n",
       "      <td>21000000.0</td>\n",
       "      <td>1.902007e+07</td>\n",
       "      <td>1.902007e+07</td>\n",
       "      <td>None</td>\n",
       "      <td>1</td>\n",
       "      <td>NaN</td>\n",
       "      <td>NaN</td>\n",
       "      <td>2022-04-23T19:42:00.000Z</td>\n",
       "      <td>{'USD': {'price': 39732.432568576856, 'volume_...</td>\n",
       "      <td>2013</td>\n",
       "    </tr>\n",
       "    <tr>\n",
       "      <th>1</th>\n",
       "      <td>1027</td>\n",
       "      <td>Ethereum</td>\n",
       "      <td>ETH</td>\n",
       "      <td>ethereum</td>\n",
       "      <td>5661</td>\n",
       "      <td>2015-08-07 00:00:00+00:00</td>\n",
       "      <td>[mineable, pow, smart-contracts, ethereum-ecos...</td>\n",
       "      <td>NaN</td>\n",
       "      <td>1.204986e+08</td>\n",
       "      <td>1.204986e+08</td>\n",
       "      <td>None</td>\n",
       "      <td>2</td>\n",
       "      <td>NaN</td>\n",
       "      <td>NaN</td>\n",
       "      <td>2022-04-23T19:41:00.000Z</td>\n",
       "      <td>{'USD': {'price': 2951.497484058154, 'volume_2...</td>\n",
       "      <td>2015</td>\n",
       "    </tr>\n",
       "  </tbody>\n",
       "</table>\n",
       "</div>"
      ],
      "text/plain": [
       "     id      name symbol      slug  num_market_pairs  \\\n",
       "0     1   Bitcoin    BTC   bitcoin              9357   \n",
       "1  1027  Ethereum    ETH  ethereum              5661   \n",
       "\n",
       "                 date_added  \\\n",
       "0 2013-04-28 00:00:00+00:00   \n",
       "1 2015-08-07 00:00:00+00:00   \n",
       "\n",
       "                                                tags  max_supply  \\\n",
       "0  [mineable, pow, sha-256, store-of-value, state...  21000000.0   \n",
       "1  [mineable, pow, smart-contracts, ethereum-ecos...         NaN   \n",
       "\n",
       "   circulating_supply  total_supply platform  cmc_rank  \\\n",
       "0        1.902007e+07  1.902007e+07     None         1   \n",
       "1        1.204986e+08  1.204986e+08     None         2   \n",
       "\n",
       "   self_reported_circulating_supply  self_reported_market_cap  \\\n",
       "0                               NaN                       NaN   \n",
       "1                               NaN                       NaN   \n",
       "\n",
       "               last_updated  \\\n",
       "0  2022-04-23T19:42:00.000Z   \n",
       "1  2022-04-23T19:41:00.000Z   \n",
       "\n",
       "                                               quote  year  \n",
       "0  {'USD': {'price': 39732.432568576856, 'volume_...  2013  \n",
       "1  {'USD': {'price': 2951.497484058154, 'volume_2...  2015  "
      ]
     },
     "execution_count": 34,
     "metadata": {},
     "output_type": "execute_result"
    },
    {
     "data": {
      "application/javascript": "\n            setTimeout(function() {\n                var nbb_cell_id = 34;\n                var nbb_unformatted_code = \"data_df = pd.DataFrame(docs[\\\"data\\\"][0])\\ndata_df['date_added'] = pd.to_datetime(data_df['date_added'])\\ndata_df['year'] = pd.DatetimeIndex(data_df['date_added']).year\\ndata_df.head(2)\";\n                var nbb_formatted_code = \"data_df = pd.DataFrame(docs[\\\"data\\\"][0])\\ndata_df[\\\"date_added\\\"] = pd.to_datetime(data_df[\\\"date_added\\\"])\\ndata_df[\\\"year\\\"] = pd.DatetimeIndex(data_df[\\\"date_added\\\"]).year\\ndata_df.head(2)\";\n                var nbb_cells = Jupyter.notebook.get_cells();\n                for (var i = 0; i < nbb_cells.length; ++i) {\n                    if (nbb_cells[i].input_prompt_number == nbb_cell_id) {\n                        if (nbb_cells[i].get_text() == nbb_unformatted_code) {\n                             nbb_cells[i].set_text(nbb_formatted_code);\n                        }\n                        break;\n                    }\n                }\n            }, 500);\n            ",
      "text/plain": [
       "<IPython.core.display.Javascript object>"
      ]
     },
     "metadata": {},
     "output_type": "display_data"
    }
   ],
   "source": [
    "data_df = pd.DataFrame(docs[\"data\"][0])\n",
    "data_df[\"date_added\"] = pd.to_datetime(data_df[\"date_added\"])\n",
    "data_df[\"year\"] = pd.DatetimeIndex(data_df[\"date_added\"]).year\n",
    "data_df.head(2)\n"
   ]
  },
  {
   "cell_type": "code",
   "execution_count": 35,
   "id": "09996c0c",
   "metadata": {
    "scrolled": true
   },
   "outputs": [
    {
     "data": {
      "application/javascript": "\n            setTimeout(function() {\n                var nbb_cell_id = 35;\n                var nbb_unformatted_code = \"df = pd.DataFrame.from_dict(data_df)\\ndf.head(2)\\ndf['date_added'] = pd.to_datetime(df['date_added'])\\ndf['year'] = pd.DatetimeIndex(df['date_added']).year\";\n                var nbb_formatted_code = \"df = pd.DataFrame.from_dict(data_df)\\ndf.head(2)\\ndf[\\\"date_added\\\"] = pd.to_datetime(df[\\\"date_added\\\"])\\ndf[\\\"year\\\"] = pd.DatetimeIndex(df[\\\"date_added\\\"]).year\";\n                var nbb_cells = Jupyter.notebook.get_cells();\n                for (var i = 0; i < nbb_cells.length; ++i) {\n                    if (nbb_cells[i].input_prompt_number == nbb_cell_id) {\n                        if (nbb_cells[i].get_text() == nbb_unformatted_code) {\n                             nbb_cells[i].set_text(nbb_formatted_code);\n                        }\n                        break;\n                    }\n                }\n            }, 500);\n            ",
      "text/plain": [
       "<IPython.core.display.Javascript object>"
      ]
     },
     "metadata": {},
     "output_type": "display_data"
    }
   ],
   "source": [
    "df = pd.DataFrame.from_dict(data_df)\n",
    "df.head(2)\n",
    "df[\"date_added\"] = pd.to_datetime(df[\"date_added\"])\n",
    "df[\"year\"] = pd.DatetimeIndex(df[\"date_added\"]).year\n"
   ]
  },
  {
   "cell_type": "code",
   "execution_count": 36,
   "id": "dcd6e08d",
   "metadata": {},
   "outputs": [
    {
     "data": {
      "text/html": [
       "<div>\n",
       "<style scoped>\n",
       "    .dataframe tbody tr th:only-of-type {\n",
       "        vertical-align: middle;\n",
       "    }\n",
       "\n",
       "    .dataframe tbody tr th {\n",
       "        vertical-align: top;\n",
       "    }\n",
       "\n",
       "    .dataframe thead th {\n",
       "        text-align: right;\n",
       "    }\n",
       "</style>\n",
       "<table border=\"1\" class=\"dataframe\">\n",
       "  <thead>\n",
       "    <tr style=\"text-align: right;\">\n",
       "      <th></th>\n",
       "      <th>USD</th>\n",
       "    </tr>\n",
       "  </thead>\n",
       "  <tbody>\n",
       "    <tr>\n",
       "      <th>0</th>\n",
       "      <td>{'price': 39732.432568576856, 'volume_24h': 16...</td>\n",
       "    </tr>\n",
       "    <tr>\n",
       "      <th>1</th>\n",
       "      <td>{'price': 2951.497484058154, 'volume_24h': 971...</td>\n",
       "    </tr>\n",
       "  </tbody>\n",
       "</table>\n",
       "</div>"
      ],
      "text/plain": [
       "                                                 USD\n",
       "0  {'price': 39732.432568576856, 'volume_24h': 16...\n",
       "1  {'price': 2951.497484058154, 'volume_24h': 971..."
      ]
     },
     "execution_count": 36,
     "metadata": {},
     "output_type": "execute_result"
    },
    {
     "data": {
      "application/javascript": "\n            setTimeout(function() {\n                var nbb_cell_id = 36;\n                var nbb_unformatted_code = \"df = df[\\\"quote\\\"].apply(pd.Series)\\ndf.head(2)\";\n                var nbb_formatted_code = \"df = df[\\\"quote\\\"].apply(pd.Series)\\ndf.head(2)\";\n                var nbb_cells = Jupyter.notebook.get_cells();\n                for (var i = 0; i < nbb_cells.length; ++i) {\n                    if (nbb_cells[i].input_prompt_number == nbb_cell_id) {\n                        if (nbb_cells[i].get_text() == nbb_unformatted_code) {\n                             nbb_cells[i].set_text(nbb_formatted_code);\n                        }\n                        break;\n                    }\n                }\n            }, 500);\n            ",
      "text/plain": [
       "<IPython.core.display.Javascript object>"
      ]
     },
     "metadata": {},
     "output_type": "display_data"
    }
   ],
   "source": [
    "df = df[\"quote\"].apply(pd.Series)\n",
    "df.head(2)\n"
   ]
  },
  {
   "cell_type": "code",
   "execution_count": 37,
   "id": "868e7f98",
   "metadata": {},
   "outputs": [
    {
     "data": {
      "text/html": [
       "<div>\n",
       "<style scoped>\n",
       "    .dataframe tbody tr th:only-of-type {\n",
       "        vertical-align: middle;\n",
       "    }\n",
       "\n",
       "    .dataframe tbody tr th {\n",
       "        vertical-align: top;\n",
       "    }\n",
       "\n",
       "    .dataframe thead th {\n",
       "        text-align: right;\n",
       "    }\n",
       "</style>\n",
       "<table border=\"1\" class=\"dataframe\">\n",
       "  <thead>\n",
       "    <tr style=\"text-align: right;\">\n",
       "      <th></th>\n",
       "      <th>price</th>\n",
       "      <th>volume_24h</th>\n",
       "      <th>volume_change_24h</th>\n",
       "      <th>percent_change_1h</th>\n",
       "      <th>percent_change_24h</th>\n",
       "      <th>percent_change_7d</th>\n",
       "      <th>percent_change_30d</th>\n",
       "      <th>percent_change_60d</th>\n",
       "      <th>percent_change_90d</th>\n",
       "      <th>market_cap</th>\n",
       "      <th>market_cap_dominance</th>\n",
       "      <th>fully_diluted_market_cap</th>\n",
       "      <th>last_updated</th>\n",
       "    </tr>\n",
       "  </thead>\n",
       "  <tbody>\n",
       "    <tr>\n",
       "      <th>0</th>\n",
       "      <td>39732.432569</td>\n",
       "      <td>1.665930e+10</td>\n",
       "      <td>-47.3935</td>\n",
       "      <td>-0.034540</td>\n",
       "      <td>0.003928</td>\n",
       "      <td>-1.248341</td>\n",
       "      <td>-9.733043</td>\n",
       "      <td>4.534797</td>\n",
       "      <td>13.781847</td>\n",
       "      <td>7.557136e+11</td>\n",
       "      <td>40.8958</td>\n",
       "      <td>8.343811e+11</td>\n",
       "      <td>2022-04-23T19:42:00.000Z</td>\n",
       "    </tr>\n",
       "    <tr>\n",
       "      <th>1</th>\n",
       "      <td>2951.497484</td>\n",
       "      <td>9.715132e+09</td>\n",
       "      <td>-49.7670</td>\n",
       "      <td>-0.057011</td>\n",
       "      <td>-0.887322</td>\n",
       "      <td>-2.507274</td>\n",
       "      <td>-5.258144</td>\n",
       "      <td>12.748583</td>\n",
       "      <td>22.701376</td>\n",
       "      <td>3.556514e+11</td>\n",
       "      <td>19.2455</td>\n",
       "      <td>3.556514e+11</td>\n",
       "      <td>2022-04-23T19:41:00.000Z</td>\n",
       "    </tr>\n",
       "  </tbody>\n",
       "</table>\n",
       "</div>"
      ],
      "text/plain": [
       "          price    volume_24h  volume_change_24h  percent_change_1h  \\\n",
       "0  39732.432569  1.665930e+10           -47.3935          -0.034540   \n",
       "1   2951.497484  9.715132e+09           -49.7670          -0.057011   \n",
       "\n",
       "   percent_change_24h  percent_change_7d  percent_change_30d  \\\n",
       "0            0.003928          -1.248341           -9.733043   \n",
       "1           -0.887322          -2.507274           -5.258144   \n",
       "\n",
       "   percent_change_60d  percent_change_90d    market_cap  market_cap_dominance  \\\n",
       "0            4.534797           13.781847  7.557136e+11               40.8958   \n",
       "1           12.748583           22.701376  3.556514e+11               19.2455   \n",
       "\n",
       "   fully_diluted_market_cap              last_updated  \n",
       "0              8.343811e+11  2022-04-23T19:42:00.000Z  \n",
       "1              3.556514e+11  2022-04-23T19:41:00.000Z  "
      ]
     },
     "execution_count": 37,
     "metadata": {},
     "output_type": "execute_result"
    },
    {
     "data": {
      "application/javascript": "\n            setTimeout(function() {\n                var nbb_cell_id = 37;\n                var nbb_unformatted_code = \"df = df.USD.apply(pd.Series)\\ndf.head(2)\";\n                var nbb_formatted_code = \"df = df.USD.apply(pd.Series)\\ndf.head(2)\";\n                var nbb_cells = Jupyter.notebook.get_cells();\n                for (var i = 0; i < nbb_cells.length; ++i) {\n                    if (nbb_cells[i].input_prompt_number == nbb_cell_id) {\n                        if (nbb_cells[i].get_text() == nbb_unformatted_code) {\n                             nbb_cells[i].set_text(nbb_formatted_code);\n                        }\n                        break;\n                    }\n                }\n            }, 500);\n            ",
      "text/plain": [
       "<IPython.core.display.Javascript object>"
      ]
     },
     "metadata": {},
     "output_type": "display_data"
    }
   ],
   "source": [
    "df = df.USD.apply(pd.Series)\n",
    "df.head(2)\n"
   ]
  },
  {
   "cell_type": "code",
   "execution_count": 38,
   "id": "519b22d1",
   "metadata": {},
   "outputs": [
    {
     "data": {
      "text/html": [
       "<div>\n",
       "<style scoped>\n",
       "    .dataframe tbody tr th:only-of-type {\n",
       "        vertical-align: middle;\n",
       "    }\n",
       "\n",
       "    .dataframe tbody tr th {\n",
       "        vertical-align: top;\n",
       "    }\n",
       "\n",
       "    .dataframe thead th {\n",
       "        text-align: right;\n",
       "    }\n",
       "</style>\n",
       "<table border=\"1\" class=\"dataframe\">\n",
       "  <thead>\n",
       "    <tr style=\"text-align: right;\">\n",
       "      <th></th>\n",
       "      <th>id</th>\n",
       "      <th>name</th>\n",
       "      <th>symbol</th>\n",
       "      <th>slug</th>\n",
       "      <th>num_market_pairs</th>\n",
       "      <th>date_added</th>\n",
       "      <th>tags</th>\n",
       "      <th>max_supply</th>\n",
       "      <th>circulating_supply</th>\n",
       "      <th>total_supply</th>\n",
       "      <th>...</th>\n",
       "      <th>percent_change_1h</th>\n",
       "      <th>percent_change_24h</th>\n",
       "      <th>percent_change_7d</th>\n",
       "      <th>percent_change_30d</th>\n",
       "      <th>percent_change_60d</th>\n",
       "      <th>percent_change_90d</th>\n",
       "      <th>market_cap</th>\n",
       "      <th>market_cap_dominance</th>\n",
       "      <th>fully_diluted_market_cap</th>\n",
       "      <th>last_updated</th>\n",
       "    </tr>\n",
       "  </thead>\n",
       "  <tbody>\n",
       "    <tr>\n",
       "      <th>0</th>\n",
       "      <td>1</td>\n",
       "      <td>Bitcoin</td>\n",
       "      <td>BTC</td>\n",
       "      <td>bitcoin</td>\n",
       "      <td>9357</td>\n",
       "      <td>2013-04-28 00:00:00+00:00</td>\n",
       "      <td>[mineable, pow, sha-256, store-of-value, state...</td>\n",
       "      <td>21000000.0</td>\n",
       "      <td>1.902007e+07</td>\n",
       "      <td>1.902007e+07</td>\n",
       "      <td>...</td>\n",
       "      <td>-0.034540</td>\n",
       "      <td>0.003928</td>\n",
       "      <td>-1.248341</td>\n",
       "      <td>-9.733043</td>\n",
       "      <td>4.534797</td>\n",
       "      <td>13.781847</td>\n",
       "      <td>7.557136e+11</td>\n",
       "      <td>40.8958</td>\n",
       "      <td>8.343811e+11</td>\n",
       "      <td>2022-04-23T19:42:00.000Z</td>\n",
       "    </tr>\n",
       "    <tr>\n",
       "      <th>1</th>\n",
       "      <td>1027</td>\n",
       "      <td>Ethereum</td>\n",
       "      <td>ETH</td>\n",
       "      <td>ethereum</td>\n",
       "      <td>5661</td>\n",
       "      <td>2015-08-07 00:00:00+00:00</td>\n",
       "      <td>[mineable, pow, smart-contracts, ethereum-ecos...</td>\n",
       "      <td>NaN</td>\n",
       "      <td>1.204986e+08</td>\n",
       "      <td>1.204986e+08</td>\n",
       "      <td>...</td>\n",
       "      <td>-0.057011</td>\n",
       "      <td>-0.887322</td>\n",
       "      <td>-2.507274</td>\n",
       "      <td>-5.258144</td>\n",
       "      <td>12.748583</td>\n",
       "      <td>22.701376</td>\n",
       "      <td>3.556514e+11</td>\n",
       "      <td>19.2455</td>\n",
       "      <td>3.556514e+11</td>\n",
       "      <td>2022-04-23T19:41:00.000Z</td>\n",
       "    </tr>\n",
       "    <tr>\n",
       "      <th>2</th>\n",
       "      <td>825</td>\n",
       "      <td>Tether</td>\n",
       "      <td>USDT</td>\n",
       "      <td>tether</td>\n",
       "      <td>32249</td>\n",
       "      <td>2015-02-25 00:00:00+00:00</td>\n",
       "      <td>[payments, stablecoin, asset-backed-stablecoin...</td>\n",
       "      <td>NaN</td>\n",
       "      <td>8.311420e+10</td>\n",
       "      <td>8.571395e+10</td>\n",
       "      <td>...</td>\n",
       "      <td>0.002965</td>\n",
       "      <td>0.004818</td>\n",
       "      <td>0.002284</td>\n",
       "      <td>-0.021181</td>\n",
       "      <td>-0.043373</td>\n",
       "      <td>-0.016517</td>\n",
       "      <td>8.313830e+10</td>\n",
       "      <td>4.5004</td>\n",
       "      <td>8.573880e+10</td>\n",
       "      <td>2022-04-23T19:41:00.000Z</td>\n",
       "    </tr>\n",
       "    <tr>\n",
       "      <th>3</th>\n",
       "      <td>1839</td>\n",
       "      <td>BNB</td>\n",
       "      <td>BNB</td>\n",
       "      <td>bnb</td>\n",
       "      <td>813</td>\n",
       "      <td>2017-07-25 00:00:00+00:00</td>\n",
       "      <td>[marketplace, centralized-exchange, payments, ...</td>\n",
       "      <td>165116760.0</td>\n",
       "      <td>1.632770e+08</td>\n",
       "      <td>1.632770e+08</td>\n",
       "      <td>...</td>\n",
       "      <td>0.016126</td>\n",
       "      <td>-0.776389</td>\n",
       "      <td>-1.931158</td>\n",
       "      <td>-2.120099</td>\n",
       "      <td>9.499423</td>\n",
       "      <td>10.934343</td>\n",
       "      <td>6.633072e+10</td>\n",
       "      <td>3.5902</td>\n",
       "      <td>6.707813e+10</td>\n",
       "      <td>2022-04-23T19:41:00.000Z</td>\n",
       "    </tr>\n",
       "    <tr>\n",
       "      <th>4</th>\n",
       "      <td>3408</td>\n",
       "      <td>USD Coin</td>\n",
       "      <td>USDC</td>\n",
       "      <td>usd-coin</td>\n",
       "      <td>3801</td>\n",
       "      <td>2018-10-08 00:00:00+00:00</td>\n",
       "      <td>[medium-of-exchange, stablecoin, asset-backed-...</td>\n",
       "      <td>NaN</td>\n",
       "      <td>4.989235e+10</td>\n",
       "      <td>4.989235e+10</td>\n",
       "      <td>...</td>\n",
       "      <td>0.045592</td>\n",
       "      <td>-0.006661</td>\n",
       "      <td>0.045157</td>\n",
       "      <td>0.066560</td>\n",
       "      <td>-0.003620</td>\n",
       "      <td>0.100152</td>\n",
       "      <td>4.991087e+10</td>\n",
       "      <td>2.7006</td>\n",
       "      <td>4.991087e+10</td>\n",
       "      <td>2022-04-23T19:41:00.000Z</td>\n",
       "    </tr>\n",
       "    <tr>\n",
       "      <th>...</th>\n",
       "      <td>...</td>\n",
       "      <td>...</td>\n",
       "      <td>...</td>\n",
       "      <td>...</td>\n",
       "      <td>...</td>\n",
       "      <td>...</td>\n",
       "      <td>...</td>\n",
       "      <td>...</td>\n",
       "      <td>...</td>\n",
       "      <td>...</td>\n",
       "      <td>...</td>\n",
       "      <td>...</td>\n",
       "      <td>...</td>\n",
       "      <td>...</td>\n",
       "      <td>...</td>\n",
       "      <td>...</td>\n",
       "      <td>...</td>\n",
       "      <td>...</td>\n",
       "      <td>...</td>\n",
       "      <td>...</td>\n",
       "      <td>...</td>\n",
       "    </tr>\n",
       "    <tr>\n",
       "      <th>995</th>\n",
       "      <td>2576</td>\n",
       "      <td>Tokenomy</td>\n",
       "      <td>TEN</td>\n",
       "      <td>tokenomy</td>\n",
       "      <td>5</td>\n",
       "      <td>2018-03-10 00:00:00+00:00</td>\n",
       "      <td>[marketplace]</td>\n",
       "      <td>NaN</td>\n",
       "      <td>2.000000e+08</td>\n",
       "      <td>2.000000e+08</td>\n",
       "      <td>...</td>\n",
       "      <td>-0.162602</td>\n",
       "      <td>-2.346419</td>\n",
       "      <td>-8.465532</td>\n",
       "      <td>5.240591</td>\n",
       "      <td>-6.582353</td>\n",
       "      <td>-1.769172</td>\n",
       "      <td>8.486524e+06</td>\n",
       "      <td>0.0005</td>\n",
       "      <td>8.486524e+06</td>\n",
       "      <td>2022-04-23T19:41:00.000Z</td>\n",
       "    </tr>\n",
       "    <tr>\n",
       "      <th>996</th>\n",
       "      <td>8161</td>\n",
       "      <td>Shopping</td>\n",
       "      <td>SPI</td>\n",
       "      <td>shopping</td>\n",
       "      <td>19</td>\n",
       "      <td>2021-01-02 00:00:00+00:00</td>\n",
       "      <td>[e-commerce, bnb-chain]</td>\n",
       "      <td>NaN</td>\n",
       "      <td>9.195561e+05</td>\n",
       "      <td>1.000000e+06</td>\n",
       "      <td>...</td>\n",
       "      <td>-0.179282</td>\n",
       "      <td>-1.308004</td>\n",
       "      <td>4.629906</td>\n",
       "      <td>13.567833</td>\n",
       "      <td>3.978736</td>\n",
       "      <td>-17.350695</td>\n",
       "      <td>8.484869e+06</td>\n",
       "      <td>0.0000</td>\n",
       "      <td>9.227136e+06</td>\n",
       "      <td>2022-04-23T19:41:00.000Z</td>\n",
       "    </tr>\n",
       "    <tr>\n",
       "      <th>997</th>\n",
       "      <td>3336</td>\n",
       "      <td>IQeon</td>\n",
       "      <td>IQN</td>\n",
       "      <td>iqeon</td>\n",
       "      <td>11</td>\n",
       "      <td>2018-09-24 00:00:00+00:00</td>\n",
       "      <td>[gaming, entertainment]</td>\n",
       "      <td>5491860.0</td>\n",
       "      <td>5.491860e+06</td>\n",
       "      <td>5.491860e+06</td>\n",
       "      <td>...</td>\n",
       "      <td>-0.396283</td>\n",
       "      <td>0.472776</td>\n",
       "      <td>-3.777212</td>\n",
       "      <td>-42.327275</td>\n",
       "      <td>-49.506689</td>\n",
       "      <td>-37.459632</td>\n",
       "      <td>8.440723e+06</td>\n",
       "      <td>0.0000</td>\n",
       "      <td>8.440723e+06</td>\n",
       "      <td>2022-04-23T19:41:00.000Z</td>\n",
       "    </tr>\n",
       "    <tr>\n",
       "      <th>998</th>\n",
       "      <td>3965</td>\n",
       "      <td>TouchCon</td>\n",
       "      <td>TOC</td>\n",
       "      <td>touchcon</td>\n",
       "      <td>4</td>\n",
       "      <td>2019-05-24 00:00:00+00:00</td>\n",
       "      <td>[]</td>\n",
       "      <td>NaN</td>\n",
       "      <td>1.584001e+08</td>\n",
       "      <td>9.900000e+08</td>\n",
       "      <td>...</td>\n",
       "      <td>-0.057011</td>\n",
       "      <td>-1.704184</td>\n",
       "      <td>-17.614995</td>\n",
       "      <td>164.310742</td>\n",
       "      <td>481.460549</td>\n",
       "      <td>818.987483</td>\n",
       "      <td>8.438691e+06</td>\n",
       "      <td>0.0000</td>\n",
       "      <td>5.274178e+07</td>\n",
       "      <td>2022-04-23T19:41:00.000Z</td>\n",
       "    </tr>\n",
       "    <tr>\n",
       "      <th>999</th>\n",
       "      <td>1955</td>\n",
       "      <td>Neblio</td>\n",
       "      <td>NEBL</td>\n",
       "      <td>neblio</td>\n",
       "      <td>6</td>\n",
       "      <td>2017-09-12 00:00:00+00:00</td>\n",
       "      <td>[platform, enterprise-solutions]</td>\n",
       "      <td>NaN</td>\n",
       "      <td>1.889537e+07</td>\n",
       "      <td>1.913423e+07</td>\n",
       "      <td>...</td>\n",
       "      <td>-1.436388</td>\n",
       "      <td>-5.549036</td>\n",
       "      <td>-3.658884</td>\n",
       "      <td>4.085774</td>\n",
       "      <td>-13.586458</td>\n",
       "      <td>-15.722830</td>\n",
       "      <td>8.423337e+06</td>\n",
       "      <td>0.0005</td>\n",
       "      <td>8.529818e+06</td>\n",
       "      <td>2022-04-23T19:41:00.000Z</td>\n",
       "    </tr>\n",
       "  </tbody>\n",
       "</table>\n",
       "<p>1000 rows × 29 columns</p>\n",
       "</div>"
      ],
      "text/plain": [
       "       id      name symbol      slug  num_market_pairs  \\\n",
       "0       1   Bitcoin    BTC   bitcoin              9357   \n",
       "1    1027  Ethereum    ETH  ethereum              5661   \n",
       "2     825    Tether   USDT    tether             32249   \n",
       "3    1839       BNB    BNB       bnb               813   \n",
       "4    3408  USD Coin   USDC  usd-coin              3801   \n",
       "..    ...       ...    ...       ...               ...   \n",
       "995  2576  Tokenomy    TEN  tokenomy                 5   \n",
       "996  8161  Shopping    SPI  shopping                19   \n",
       "997  3336     IQeon    IQN     iqeon                11   \n",
       "998  3965  TouchCon    TOC  touchcon                 4   \n",
       "999  1955    Neblio   NEBL    neblio                 6   \n",
       "\n",
       "                   date_added  \\\n",
       "0   2013-04-28 00:00:00+00:00   \n",
       "1   2015-08-07 00:00:00+00:00   \n",
       "2   2015-02-25 00:00:00+00:00   \n",
       "3   2017-07-25 00:00:00+00:00   \n",
       "4   2018-10-08 00:00:00+00:00   \n",
       "..                        ...   \n",
       "995 2018-03-10 00:00:00+00:00   \n",
       "996 2021-01-02 00:00:00+00:00   \n",
       "997 2018-09-24 00:00:00+00:00   \n",
       "998 2019-05-24 00:00:00+00:00   \n",
       "999 2017-09-12 00:00:00+00:00   \n",
       "\n",
       "                                                  tags   max_supply  \\\n",
       "0    [mineable, pow, sha-256, store-of-value, state...   21000000.0   \n",
       "1    [mineable, pow, smart-contracts, ethereum-ecos...          NaN   \n",
       "2    [payments, stablecoin, asset-backed-stablecoin...          NaN   \n",
       "3    [marketplace, centralized-exchange, payments, ...  165116760.0   \n",
       "4    [medium-of-exchange, stablecoin, asset-backed-...          NaN   \n",
       "..                                                 ...          ...   \n",
       "995                                      [marketplace]          NaN   \n",
       "996                            [e-commerce, bnb-chain]          NaN   \n",
       "997                            [gaming, entertainment]    5491860.0   \n",
       "998                                                 []          NaN   \n",
       "999                   [platform, enterprise-solutions]          NaN   \n",
       "\n",
       "     circulating_supply  total_supply  ... percent_change_1h  \\\n",
       "0          1.902007e+07  1.902007e+07  ...         -0.034540   \n",
       "1          1.204986e+08  1.204986e+08  ...         -0.057011   \n",
       "2          8.311420e+10  8.571395e+10  ...          0.002965   \n",
       "3          1.632770e+08  1.632770e+08  ...          0.016126   \n",
       "4          4.989235e+10  4.989235e+10  ...          0.045592   \n",
       "..                  ...           ...  ...               ...   \n",
       "995        2.000000e+08  2.000000e+08  ...         -0.162602   \n",
       "996        9.195561e+05  1.000000e+06  ...         -0.179282   \n",
       "997        5.491860e+06  5.491860e+06  ...         -0.396283   \n",
       "998        1.584001e+08  9.900000e+08  ...         -0.057011   \n",
       "999        1.889537e+07  1.913423e+07  ...         -1.436388   \n",
       "\n",
       "     percent_change_24h  percent_change_7d  percent_change_30d  \\\n",
       "0              0.003928          -1.248341           -9.733043   \n",
       "1             -0.887322          -2.507274           -5.258144   \n",
       "2              0.004818           0.002284           -0.021181   \n",
       "3             -0.776389          -1.931158           -2.120099   \n",
       "4             -0.006661           0.045157            0.066560   \n",
       "..                  ...                ...                 ...   \n",
       "995           -2.346419          -8.465532            5.240591   \n",
       "996           -1.308004           4.629906           13.567833   \n",
       "997            0.472776          -3.777212          -42.327275   \n",
       "998           -1.704184         -17.614995          164.310742   \n",
       "999           -5.549036          -3.658884            4.085774   \n",
       "\n",
       "    percent_change_60d  percent_change_90d    market_cap  \\\n",
       "0             4.534797           13.781847  7.557136e+11   \n",
       "1            12.748583           22.701376  3.556514e+11   \n",
       "2            -0.043373           -0.016517  8.313830e+10   \n",
       "3             9.499423           10.934343  6.633072e+10   \n",
       "4            -0.003620            0.100152  4.991087e+10   \n",
       "..                 ...                 ...           ...   \n",
       "995          -6.582353           -1.769172  8.486524e+06   \n",
       "996           3.978736          -17.350695  8.484869e+06   \n",
       "997         -49.506689          -37.459632  8.440723e+06   \n",
       "998         481.460549          818.987483  8.438691e+06   \n",
       "999         -13.586458          -15.722830  8.423337e+06   \n",
       "\n",
       "     market_cap_dominance  fully_diluted_market_cap              last_updated  \n",
       "0                 40.8958              8.343811e+11  2022-04-23T19:42:00.000Z  \n",
       "1                 19.2455              3.556514e+11  2022-04-23T19:41:00.000Z  \n",
       "2                  4.5004              8.573880e+10  2022-04-23T19:41:00.000Z  \n",
       "3                  3.5902              6.707813e+10  2022-04-23T19:41:00.000Z  \n",
       "4                  2.7006              4.991087e+10  2022-04-23T19:41:00.000Z  \n",
       "..                    ...                       ...                       ...  \n",
       "995                0.0005              8.486524e+06  2022-04-23T19:41:00.000Z  \n",
       "996                0.0000              9.227136e+06  2022-04-23T19:41:00.000Z  \n",
       "997                0.0000              8.440723e+06  2022-04-23T19:41:00.000Z  \n",
       "998                0.0000              5.274178e+07  2022-04-23T19:41:00.000Z  \n",
       "999                0.0005              8.529818e+06  2022-04-23T19:41:00.000Z  \n",
       "\n",
       "[1000 rows x 29 columns]"
      ]
     },
     "execution_count": 38,
     "metadata": {},
     "output_type": "execute_result"
    },
    {
     "data": {
      "application/javascript": "\n            setTimeout(function() {\n                var nbb_cell_id = 38;\n                var nbb_unformatted_code = \"final_df = pd.concat([data_df, df], axis=1)\\nfinal_df = final_df.drop(columns=\\\"quote\\\")\\nfinal_df\";\n                var nbb_formatted_code = \"final_df = pd.concat([data_df, df], axis=1)\\nfinal_df = final_df.drop(columns=\\\"quote\\\")\\nfinal_df\";\n                var nbb_cells = Jupyter.notebook.get_cells();\n                for (var i = 0; i < nbb_cells.length; ++i) {\n                    if (nbb_cells[i].input_prompt_number == nbb_cell_id) {\n                        if (nbb_cells[i].get_text() == nbb_unformatted_code) {\n                             nbb_cells[i].set_text(nbb_formatted_code);\n                        }\n                        break;\n                    }\n                }\n            }, 500);\n            ",
      "text/plain": [
       "<IPython.core.display.Javascript object>"
      ]
     },
     "metadata": {},
     "output_type": "display_data"
    }
   ],
   "source": [
    "final_df = pd.concat([data_df, df], axis=1)\n",
    "final_df = final_df.drop(columns=\"quote\")\n",
    "final_df\n"
   ]
  },
  {
   "cell_type": "code",
   "execution_count": 39,
   "id": "e22d979f",
   "metadata": {},
   "outputs": [
    {
     "name": "stderr",
     "output_type": "stream",
     "text": [
      "/var/folders/4p/rh50sq7s6hv5kgschbryjvt80000gn/T/ipykernel_66710/1793185836.py:1: UserWarning: DataFrame columns are not unique, some columns will be omitted.\n",
      "  collection.insert_many(final_df.to_dict('records'))\n"
     ]
    },
    {
     "data": {
      "text/plain": [
       "<pymongo.results.InsertManyResult at 0x7fe488b8a880>"
      ]
     },
     "execution_count": 39,
     "metadata": {},
     "output_type": "execute_result"
    },
    {
     "data": {
      "application/javascript": "\n            setTimeout(function() {\n                var nbb_cell_id = 39;\n                var nbb_unformatted_code = \"collection.insert_many(final_df.to_dict('records'))\";\n                var nbb_formatted_code = \"collection.insert_many(final_df.to_dict(\\\"records\\\"))\";\n                var nbb_cells = Jupyter.notebook.get_cells();\n                for (var i = 0; i < nbb_cells.length; ++i) {\n                    if (nbb_cells[i].input_prompt_number == nbb_cell_id) {\n                        if (nbb_cells[i].get_text() == nbb_unformatted_code) {\n                             nbb_cells[i].set_text(nbb_formatted_code);\n                        }\n                        break;\n                    }\n                }\n            }, 500);\n            ",
      "text/plain": [
       "<IPython.core.display.Javascript object>"
      ]
     },
     "metadata": {},
     "output_type": "display_data"
    }
   ],
   "source": [
    "collection.insert_many(final_df.to_dict(\"records\"))\n"
   ]
  },
  {
   "cell_type": "code",
   "execution_count": 1,
   "id": "7cab48a9",
   "metadata": {},
   "outputs": [
    {
     "ename": "NameError",
     "evalue": "name 'collection' is not defined",
     "output_type": "error",
     "traceback": [
      "\u001b[0;31m---------------------------------------------------------------------------\u001b[0m",
      "\u001b[0;31mNameError\u001b[0m                                 Traceback (most recent call last)",
      "\u001b[0;32m/var/folders/4p/rh50sq7s6hv5kgschbryjvt80000gn/T/ipykernel_80663/63889244.py\u001b[0m in \u001b[0;36m<module>\u001b[0;34m\u001b[0m\n\u001b[0;32m----> 1\u001b[0;31m \u001b[0mcollection\u001b[0m\u001b[0;34m\u001b[0m\u001b[0;34m\u001b[0m\u001b[0m\n\u001b[0m",
      "\u001b[0;31mNameError\u001b[0m: name 'collection' is not defined"
     ]
    }
   ],
   "source": [
    "collection"
   ]
  }
 ],
 "metadata": {
  "kernelspec": {
   "display_name": "Python 3 (ipykernel)",
   "language": "python",
   "name": "python3"
  },
  "language_info": {
   "codemirror_mode": {
    "name": "ipython",
    "version": 3
   },
   "file_extension": ".py",
   "mimetype": "text/x-python",
   "name": "python",
   "nbconvert_exporter": "python",
   "pygments_lexer": "ipython3",
   "version": "3.9.7"
  }
 },
 "nbformat": 4,
 "nbformat_minor": 5
}
